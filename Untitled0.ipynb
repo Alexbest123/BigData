{
  "nbformat": 4,
  "nbformat_minor": 0,
  "metadata": {
    "colab": {
      "provenance": [],
      "collapsed_sections": []
    },
    "kernelspec": {
      "name": "python3",
      "display_name": "Python 3"
    },
    "language_info": {
      "name": "python"
    }
  },
  "cells": [
    {
      "cell_type": "code",
      "execution_count": 3,
      "metadata": {
        "id": "R_rC16ARu9co"
      },
      "outputs": [],
      "source": [
        "import pandas as pd # Подлкючение библиотеки пандас\n",
        "import datetime\n",
        "\n"
      ]
    },
    {
      "cell_type": "markdown",
      "source": [
        "Объект Series"
      ],
      "metadata": {
        "id": "wzklTcTGyHnJ"
      }
    },
    {
      "cell_type": "code",
      "source": [
        "the_series = pd.Series([1,2,3,4,5]) # Series -- столбец\n",
        "the_series # Вывод the_series"
      ],
      "metadata": {
        "colab": {
          "base_uri": "https://localhost:8080/"
        },
        "id": "SkdE8196yJId",
        "outputId": "4e0d45e8-5240-4462-8c0f-2f4f69e3cff2"
      },
      "execution_count": 6,
      "outputs": [
        {
          "output_type": "execute_result",
          "data": {
            "text/plain": [
              "0    1\n",
              "1    2\n",
              "2    3\n",
              "3    4\n",
              "4    5\n",
              "dtype: int64"
            ]
          },
          "metadata": {},
          "execution_count": 6
        }
      ]
    },
    {
      "cell_type": "code",
      "source": [
        "print(the_series[1])\n",
        "the_series[4]"
      ],
      "metadata": {
        "colab": {
          "base_uri": "https://localhost:8080/"
        },
        "id": "a8c0zbfDzTox",
        "outputId": "821c95be-c701-4225-8d3b-f0671b1967ca"
      },
      "execution_count": 9,
      "outputs": [
        {
          "output_type": "stream",
          "name": "stdout",
          "text": [
            "2\n"
          ]
        },
        {
          "output_type": "execute_result",
          "data": {
            "text/plain": [
              "5"
            ]
          },
          "metadata": {},
          "execution_count": 9
        }
      ]
    },
    {
      "cell_type": "code",
      "source": [
        "the_series[[1,4]] # Новый сериэс с элемю 1, 4"
      ],
      "metadata": {
        "colab": {
          "base_uri": "https://localhost:8080/"
        },
        "id": "O6vOfFezzjHS",
        "outputId": "edfda870-e414-4aff-e905-5bec8b749c7d"
      },
      "execution_count": 10,
      "outputs": [
        {
          "output_type": "execute_result",
          "data": {
            "text/plain": [
              "1    2\n",
              "4    5\n",
              "dtype: int64"
            ]
          },
          "metadata": {},
          "execution_count": 10
        }
      ]
    },
    {
      "cell_type": "code",
      "source": [
        "# Создаем сериэс, задавая индекс самим\n",
        "the_second_series= pd.Series([\"one\",'two','three','four','five'],\n",
        "                             index= ['I','II','III','IV','V'])\n",
        "the_second_series"
      ],
      "metadata": {
        "colab": {
          "base_uri": "https://localhost:8080/"
        },
        "id": "Pd25HDFL0ABz",
        "outputId": "27a7e9a0-3bbf-46e4-9ad6-36717369ce3a"
      },
      "execution_count": 12,
      "outputs": [
        {
          "output_type": "execute_result",
          "data": {
            "text/plain": [
              "I        one\n",
              "II       two\n",
              "III    three\n",
              "IV      four\n",
              "V       five\n",
              "dtype: object"
            ]
          },
          "metadata": {},
          "execution_count": 12
        }
      ]
    },
    {
      "cell_type": "code",
      "source": [
        "the_second_series[['II','IV']]\n",
        "the_second_series.index # Смотрим индексы\n"
      ],
      "metadata": {
        "colab": {
          "base_uri": "https://localhost:8080/"
        },
        "id": "LlUsCx-q0hD7",
        "outputId": "ea438880-385f-4d6b-9a97-0345ff46e0ee"
      },
      "execution_count": 14,
      "outputs": [
        {
          "output_type": "execute_result",
          "data": {
            "text/plain": [
              "Index(['I', 'II', 'III', 'IV', 'V'], dtype='object')"
            ]
          },
          "metadata": {},
          "execution_count": 14
        }
      ]
    },
    {
      "cell_type": "markdown",
      "source": [
        "Генератор DateTime"
      ],
      "metadata": {
        "id": "NjxK_igS1X6x"
      }
    },
    {
      "cell_type": "code",
      "source": [
        "the_dates = pd.date_range('2022-01-01','2022-09-26')\n",
        "the_dates"
      ],
      "metadata": {
        "colab": {
          "base_uri": "https://localhost:8080/"
        },
        "id": "FkIr-Rit2KNe",
        "outputId": "4156d5b9-d77a-4bf4-ee7a-43f27444dfc3"
      },
      "execution_count": 16,
      "outputs": [
        {
          "output_type": "execute_result",
          "data": {
            "text/plain": [
              "DatetimeIndex(['2022-01-01', '2022-01-02', '2022-01-03', '2022-01-04',\n",
              "               '2022-01-05', '2022-01-06', '2022-01-07', '2022-01-08',\n",
              "               '2022-01-09', '2022-01-10',\n",
              "               ...\n",
              "               '2022-09-17', '2022-09-18', '2022-09-19', '2022-09-20',\n",
              "               '2022-09-21', '2022-09-22', '2022-09-23', '2022-09-24',\n",
              "               '2022-09-25', '2022-09-26'],\n",
              "              dtype='datetime64[ns]', length=269, freq='D')"
            ]
          },
          "metadata": {},
          "execution_count": 16
        }
      ]
    }
  ]
}